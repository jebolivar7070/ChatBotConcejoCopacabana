{
 "cells": [
  {
   "cell_type": "code",
   "execution_count": 3,
   "metadata": {},
   "outputs": [
    {
     "name": "stdout",
     "output_type": "stream",
     "text": [
      "Collecting unidecode\n",
      "  Downloading Unidecode-1.2.0-py2.py3-none-any.whl (241 kB)\n",
      "Installing collected packages: unidecode\n",
      "Successfully installed unidecode-1.2.0\n",
      "Note: you may need to restart the kernel to use updated packages.\n"
     ]
    }
   ],
   "source": [
    "pip install unidecode"
   ]
  },
  {
   "cell_type": "code",
   "execution_count": 1,
   "metadata": {},
   "outputs": [],
   "source": [
    "from model import Chatbot, Encoder, Decoder\n",
    "import tensorflow as tf\n",
    "from tensorflow.keras.preprocessing.text import Tokenizer\n",
    "from tensorflow.keras.preprocessing.sequence import pad_sequences\n",
    "from tensorflow.keras.utils import to_categorical\n",
    "from pathlib import Path\n",
    "from unidecode import unidecode\n",
    "import numpy as np\n",
    "import pickle"
   ]
  },
  {
   "cell_type": "code",
   "execution_count": 23,
   "metadata": {},
   "outputs": [
    {
     "name": "stdout",
     "output_type": "stream",
     "text": [
      "El archivo 'preguntas.txt' contiene 16 preguntas\n"
     ]
    }
   ],
   "source": [
    "data_dir = Path('data')\n",
    "\n",
    "with open(data_dir/'preguntas.txt', 'r', encoding='utf-8') as f:\n",
    "    questions = f.readlines()\n",
    "\n",
    "with open(data_dir/'respuestas.txt', 'r', encoding='utf-8') as f:\n",
    "    answers = f.readlines()\n",
    "\n",
    "print(f\"El archivo 'preguntas.txt' contiene {len(questions)} preguntas\")"
   ]
  },
  {
   "cell_type": "code",
   "execution_count": 24,
   "metadata": {},
   "outputs": [
    {
     "name": "stdout",
     "output_type": "stream",
     "text": [
      "<START> hola, en que puedo ayudarte <END>\n"
     ]
    }
   ],
   "source": [
    "START_TOKEN = '<START> '\n",
    "END_TOKEN = ' <END>'\n",
    "\n",
    "processed_questions = list(map(lambda x: unidecode(x.lower()), questions))\n",
    "processed_answers = list(map(lambda x: START_TOKEN + unidecode(x.lower().strip()) + END_TOKEN, answers))\n",
    "\n",
    "print(processed_answers[0])"
   ]
  },
  {
   "cell_type": "code",
   "execution_count": 25,
   "metadata": {},
   "outputs": [
    {
     "name": "stdout",
     "output_type": "stream",
     "text": [
      "There are 58 unique words\n"
     ]
    }
   ],
   "source": [
    "tokenizer = Tokenizer()\n",
    "tokenizer.fit_on_texts(processed_questions + processed_answers)\n",
    "vocab_size = len(tokenizer.word_index)\n",
    "\n",
    "print(f\"There are {vocab_size} unique words\")"
   ]
  },
  {
   "cell_type": "code",
   "execution_count": 50,
   "metadata": {},
   "outputs": [
    {
     "name": "stdout",
     "output_type": "stream",
     "text": [
      "Encoder input data shape: (16, 7)\n",
      "Decoder input data shape: (16, 7)\n",
      "Decoder target data shape: (16, 7, 59)\n"
     ]
    }
   ],
   "source": [
    "# Preparing Encoder Input\n",
    "tokenized_questions = tokenizer.texts_to_sequences(processed_questions)\n",
    "max_input_length = max(list(map(len, tokenizer.texts_to_sequences(processed_questions))))\n",
    "encoder_input = np.array(pad_sequences(tokenized_questions, maxlen=max_input_length, padding='post'))\n",
    "print(f\"Encoder input data shape: {encoder_input.shape}\")\n",
    "\n",
    "# Preparing Decoder Input\n",
    "tokenized_answers = tokenizer.texts_to_sequences(processed_answers)\n",
    "max_output_length = max(list(map(len, tokenizer.texts_to_sequences(processed_answers))))\n",
    "decoder_input = np.array(pad_sequences(tokenized_answers, maxlen=max_input_length, padding='post'))\n",
    "print(f\"Decoder input data shape: {decoder_input.shape}\")\n",
    "\n",
    "# Preparing Target Output\n",
    "tokenized_output = list(map(lambda x: x[1:], tokenized_answers))\n",
    "padded_target = pad_sequences(tokenized_output, maxlen=max_input_length, padding='post')\n",
    "decoder_target = np.array(to_categorical(padded_target))\n",
    "print(f\"Decoder target data shape: {decoder_target.shape}\")\n",
    "\n",
    "with open(data_dir/'tokenizer.pkl', 'wb') as f:\n",
    "    pickle.dump({\n",
    "        'tokenizer': tokenizer,\n",
    "        'vocab_size': vocab_size,\n",
    "        'max_input_length': max_input_length,\n",
    "        'max_output_length': max_output_length,\n",
    "        'model_bootstrap': (encoder_input[:1], decoder_input[:1], decoder_target[:1])   \n",
    "    }, f, protocol=pickle.DEFAULT_PROTOCOL)"
   ]
  },
  {
   "cell_type": "code",
   "execution_count": 52,
   "metadata": {},
   "outputs": [
    {
     "data": {
      "text/plain": [
       "(7, 15)"
      ]
     },
     "execution_count": 52,
     "metadata": {},
     "output_type": "execute_result"
    }
   ],
   "source": [
    "max_input_length, max_output_length"
   ]
  },
  {
   "cell_type": "code",
   "execution_count": 53,
   "metadata": {},
   "outputs": [
    {
     "name": "stdout",
     "output_type": "stream",
     "text": [
      "Epoch 1/100\n",
      "2/2 [==============================] - 12s 35ms/step - loss: 3.7571 - accuracy: 0.0453\n",
      "Epoch 2/100\n",
      "2/2 [==============================] - 0s 35ms/step - loss: 3.6610 - accuracy: 0.5518\n",
      "Epoch 3/100\n",
      "2/2 [==============================] - 0s 32ms/step - loss: 3.6215 - accuracy: 0.5525\n",
      "Epoch 4/100\n",
      "2/2 [==============================] - 0s 35ms/step - loss: 3.5552 - accuracy: 0.4683\n",
      "Epoch 5/100\n",
      "2/2 [==============================] - 0s 36ms/step - loss: 3.3879 - accuracy: 0.3217\n",
      "Epoch 6/100\n",
      "2/2 [==============================] - 0s 40ms/step - loss: 3.1354 - accuracy: 0.2851\n",
      "Epoch 7/100\n",
      "2/2 [==============================] - 0s 40ms/step - loss: 2.7572 - accuracy: 0.2722\n",
      "Epoch 8/100\n",
      "2/2 [==============================] - 0s 38ms/step - loss: 2.5706 - accuracy: 0.2988\n",
      "Epoch 9/100\n",
      "2/2 [==============================] - 0s 37ms/step - loss: 2.5092 - accuracy: 0.3045\n",
      "Epoch 10/100\n",
      "2/2 [==============================] - 0s 48ms/step - loss: 2.2878 - accuracy: 0.3853\n",
      "Epoch 11/100\n",
      "2/2 [==============================] - 0s 40ms/step - loss: 2.1676 - accuracy: 0.3359\n",
      "Epoch 12/100\n",
      "2/2 [==============================] - 0s 40ms/step - loss: 2.0128 - accuracy: 0.4008\n",
      "Epoch 13/100\n",
      "2/2 [==============================] - 0s 47ms/step - loss: 1.8511 - accuracy: 0.4475\n",
      "Epoch 14/100\n",
      "2/2 [==============================] - 0s 43ms/step - loss: 1.7503 - accuracy: 0.4876\n",
      "Epoch 15/100\n",
      "2/2 [==============================] - 0s 39ms/step - loss: 1.6739 - accuracy: 0.5162\n",
      "Epoch 16/100\n",
      "2/2 [==============================] - 0s 37ms/step - loss: 1.5369 - accuracy: 0.5137\n",
      "Epoch 17/100\n",
      "2/2 [==============================] - 0s 38ms/step - loss: 1.5081 - accuracy: 0.4715\n",
      "Epoch 18/100\n",
      "2/2 [==============================] - 0s 38ms/step - loss: 1.3748 - accuracy: 0.5252\n",
      "Epoch 19/100\n",
      "2/2 [==============================] - 0s 38ms/step - loss: 1.2567 - accuracy: 0.5883\n",
      "Epoch 20/100\n",
      "2/2 [==============================] - 0s 36ms/step - loss: 1.1472 - accuracy: 0.5948\n",
      "Epoch 21/100\n",
      "2/2 [==============================] - 0s 37ms/step - loss: 1.1067 - accuracy: 0.6526\n",
      "Epoch 22/100\n",
      "2/2 [==============================] - 0s 36ms/step - loss: 1.0430 - accuracy: 0.7200\n",
      "Epoch 23/100\n",
      "2/2 [==============================] - 0s 36ms/step - loss: 0.9715 - accuracy: 0.7678\n",
      "Epoch 24/100\n",
      "2/2 [==============================] - 0s 36ms/step - loss: 0.9158 - accuracy: 0.8200\n",
      "Epoch 25/100\n",
      "2/2 [==============================] - 0s 37ms/step - loss: 0.8294 - accuracy: 0.8554\n",
      "Epoch 26/100\n",
      "2/2 [==============================] - 0s 35ms/step - loss: 0.7760 - accuracy: 0.8729\n",
      "Epoch 27/100\n",
      "2/2 [==============================] - 0s 41ms/step - loss: 0.7517 - accuracy: 0.8742\n",
      "Epoch 28/100\n",
      "2/2 [==============================] - 0s 37ms/step - loss: 0.7206 - accuracy: 0.8690\n",
      "Epoch 29/100\n",
      "2/2 [==============================] - 0s 39ms/step - loss: 0.6391 - accuracy: 0.8884\n",
      "Epoch 30/100\n",
      "2/2 [==============================] - 0s 41ms/step - loss: 0.5739 - accuracy: 0.8682\n",
      "Epoch 31/100\n",
      "2/2 [==============================] - 0s 40ms/step - loss: 0.5204 - accuracy: 0.8976\n",
      "Epoch 32/100\n",
      "2/2 [==============================] - 0s 41ms/step - loss: 0.5374 - accuracy: 0.8826\n",
      "Epoch 33/100\n",
      "2/2 [==============================] - 0s 38ms/step - loss: 0.4689 - accuracy: 0.9105\n",
      "Epoch 34/100\n",
      "2/2 [==============================] - 0s 44ms/step - loss: 0.4555 - accuracy: 0.8985\n",
      "Epoch 35/100\n",
      "2/2 [==============================] - 0s 41ms/step - loss: 0.3947 - accuracy: 0.8988\n",
      "Epoch 36/100\n",
      "2/2 [==============================] - 0s 46ms/step - loss: 0.3821 - accuracy: 0.9244\n",
      "Epoch 37/100\n",
      "2/2 [==============================] - 0s 43ms/step - loss: 0.3501 - accuracy: 0.9345\n",
      "Epoch 38/100\n",
      "2/2 [==============================] - 0s 46ms/step - loss: 0.3210 - accuracy: 0.9291\n",
      "Epoch 39/100\n",
      "2/2 [==============================] - 0s 42ms/step - loss: 0.2887 - accuracy: 0.9702\n",
      "Epoch 40/100\n",
      "2/2 [==============================] - 0s 44ms/step - loss: 0.2570 - accuracy: 0.9700\n",
      "Epoch 41/100\n",
      "2/2 [==============================] - 0s 43ms/step - loss: 0.2360 - accuracy: 0.9935\n",
      "Epoch 42/100\n",
      "2/2 [==============================] - 0s 39ms/step - loss: 0.2121 - accuracy: 0.9935\n",
      "Epoch 43/100\n",
      "2/2 [==============================] - 0s 43ms/step - loss: 0.1922 - accuracy: 1.0000\n",
      "Epoch 44/100\n",
      "2/2 [==============================] - 0s 44ms/step - loss: 0.1801 - accuracy: 1.0000\n",
      "Epoch 45/100\n",
      "2/2 [==============================] - 0s 43ms/step - loss: 0.1629 - accuracy: 1.0000\n",
      "Epoch 46/100\n",
      "2/2 [==============================] - 0s 42ms/step - loss: 0.1474 - accuracy: 1.0000\n",
      "Epoch 47/100\n",
      "2/2 [==============================] - 0s 39ms/step - loss: 0.1303 - accuracy: 1.0000\n",
      "Epoch 48/100\n",
      "2/2 [==============================] - 0s 40ms/step - loss: 0.1178 - accuracy: 1.0000\n",
      "Epoch 49/100\n",
      "2/2 [==============================] - 0s 43ms/step - loss: 0.1152 - accuracy: 1.0000\n",
      "Epoch 50/100\n",
      "2/2 [==============================] - 0s 46ms/step - loss: 0.1020 - accuracy: 1.0000\n",
      "Epoch 51/100\n",
      "2/2 [==============================] - 0s 39ms/step - loss: 0.0947 - accuracy: 1.0000\n",
      "Epoch 52/100\n",
      "2/2 [==============================] - 0s 42ms/step - loss: 0.0858 - accuracy: 1.0000\n",
      "Epoch 53/100\n",
      "2/2 [==============================] - 0s 49ms/step - loss: 0.0776 - accuracy: 1.0000\n",
      "Epoch 54/100\n",
      "2/2 [==============================] - 0s 39ms/step - loss: 0.0719 - accuracy: 1.0000\n",
      "Epoch 55/100\n",
      "2/2 [==============================] - 0s 42ms/step - loss: 0.0676 - accuracy: 1.0000\n",
      "Epoch 56/100\n",
      "2/2 [==============================] - 0s 40ms/step - loss: 0.0607 - accuracy: 1.0000\n",
      "Epoch 57/100\n",
      "2/2 [==============================] - 0s 39ms/step - loss: 0.0522 - accuracy: 1.0000\n",
      "Epoch 58/100\n",
      "2/2 [==============================] - 0s 41ms/step - loss: 0.0557 - accuracy: 1.0000\n",
      "Epoch 59/100\n",
      "2/2 [==============================] - 0s 38ms/step - loss: 0.0480 - accuracy: 1.0000\n",
      "Epoch 60/100\n",
      "2/2 [==============================] - 0s 40ms/step - loss: 0.0454 - accuracy: 1.0000\n",
      "Epoch 61/100\n",
      "2/2 [==============================] - 0s 41ms/step - loss: 0.0407 - accuracy: 1.0000\n",
      "Epoch 62/100\n",
      "2/2 [==============================] - 0s 43ms/step - loss: 0.0414 - accuracy: 1.0000\n",
      "Epoch 63/100\n",
      "2/2 [==============================] - 0s 48ms/step - loss: 0.0353 - accuracy: 1.0000\n",
      "Epoch 64/100\n",
      "2/2 [==============================] - 0s 49ms/step - loss: 0.0352 - accuracy: 1.0000\n",
      "Epoch 65/100\n",
      "2/2 [==============================] - 0s 46ms/step - loss: 0.0308 - accuracy: 1.0000\n",
      "Epoch 66/100\n",
      "2/2 [==============================] - 0s 38ms/step - loss: 0.0298 - accuracy: 1.0000\n",
      "Epoch 67/100\n",
      "2/2 [==============================] - 0s 39ms/step - loss: 0.0284 - accuracy: 1.0000\n",
      "Epoch 68/100\n",
      "2/2 [==============================] - 0s 38ms/step - loss: 0.0302 - accuracy: 1.0000\n",
      "Epoch 69/100\n",
      "2/2 [==============================] - 0s 39ms/step - loss: 0.0282 - accuracy: 1.0000\n",
      "Epoch 70/100\n",
      "2/2 [==============================] - 0s 41ms/step - loss: 0.0272 - accuracy: 1.0000\n",
      "Epoch 71/100\n",
      "2/2 [==============================] - 0s 43ms/step - loss: 0.0248 - accuracy: 1.0000\n",
      "Epoch 72/100\n",
      "2/2 [==============================] - 0s 39ms/step - loss: 0.0235 - accuracy: 1.0000\n",
      "Epoch 73/100\n",
      "2/2 [==============================] - 0s 40ms/step - loss: 0.0228 - accuracy: 1.0000\n",
      "Epoch 74/100\n",
      "2/2 [==============================] - 0s 39ms/step - loss: 0.0216 - accuracy: 1.0000\n",
      "Epoch 75/100\n",
      "2/2 [==============================] - 0s 40ms/step - loss: 0.0206 - accuracy: 1.0000\n",
      "Epoch 76/100\n",
      "2/2 [==============================] - 0s 39ms/step - loss: 0.0218 - accuracy: 1.0000\n",
      "Epoch 77/100\n",
      "2/2 [==============================] - 0s 44ms/step - loss: 0.0208 - accuracy: 1.0000\n",
      "Epoch 78/100\n",
      "2/2 [==============================] - 0s 44ms/step - loss: 0.0197 - accuracy: 1.0000\n",
      "Epoch 79/100\n",
      "2/2 [==============================] - 0s 45ms/step - loss: 0.0189 - accuracy: 1.0000\n",
      "Epoch 80/100\n",
      "2/2 [==============================] - 0s 37ms/step - loss: 0.0174 - accuracy: 1.0000\n",
      "Epoch 81/100\n",
      "2/2 [==============================] - 0s 37ms/step - loss: 0.0165 - accuracy: 1.0000\n",
      "Epoch 82/100\n",
      "2/2 [==============================] - 0s 38ms/step - loss: 0.0170 - accuracy: 1.0000\n",
      "Epoch 83/100\n"
     ]
    },
    {
     "name": "stdout",
     "output_type": "stream",
     "text": [
      "2/2 [==============================] - 0s 39ms/step - loss: 0.0158 - accuracy: 1.0000\n",
      "Epoch 84/100\n",
      "2/2 [==============================] - 0s 42ms/step - loss: 0.0152 - accuracy: 1.0000\n",
      "Epoch 85/100\n",
      "2/2 [==============================] - 0s 44ms/step - loss: 0.0156 - accuracy: 1.0000\n",
      "Epoch 86/100\n",
      "2/2 [==============================] - 0s 39ms/step - loss: 0.0147 - accuracy: 1.0000\n",
      "Epoch 87/100\n",
      "2/2 [==============================] - 0s 37ms/step - loss: 0.0144 - accuracy: 1.0000\n",
      "Epoch 88/100\n",
      "2/2 [==============================] - 0s 37ms/step - loss: 0.0139 - accuracy: 1.0000\n",
      "Epoch 89/100\n",
      "2/2 [==============================] - 0s 39ms/step - loss: 0.0130 - accuracy: 1.0000\n",
      "Epoch 90/100\n",
      "2/2 [==============================] - 0s 41ms/step - loss: 0.0126 - accuracy: 1.0000\n",
      "Epoch 91/100\n",
      "2/2 [==============================] - 0s 40ms/step - loss: 0.0120 - accuracy: 1.0000\n",
      "Epoch 92/100\n",
      "2/2 [==============================] - 0s 39ms/step - loss: 0.0117 - accuracy: 1.0000\n",
      "Epoch 93/100\n",
      "2/2 [==============================] - 0s 39ms/step - loss: 0.0116 - accuracy: 1.0000\n",
      "Epoch 94/100\n",
      "2/2 [==============================] - 0s 40ms/step - loss: 0.0115 - accuracy: 1.0000\n",
      "Epoch 95/100\n",
      "2/2 [==============================] - ETA: 0s - loss: 0.0123 - accuracy: 1.00 - 0s 43ms/step - loss: 0.0116 - accuracy: 1.0000\n",
      "Epoch 96/100\n",
      "2/2 [==============================] - 0s 38ms/step - loss: 0.0117 - accuracy: 1.0000\n",
      "Epoch 97/100\n",
      "2/2 [==============================] - 0s 41ms/step - loss: 0.0103 - accuracy: 1.0000\n",
      "Epoch 98/100\n",
      "2/2 [==============================] - 0s 42ms/step - loss: 0.0108 - accuracy: 1.0000\n",
      "Epoch 99/100\n",
      "2/2 [==============================] - 0s 43ms/step - loss: 0.0109 - accuracy: 1.0000\n",
      "Epoch 100/100\n",
      "2/2 [==============================] - 0s 41ms/step - loss: 0.0100 - accuracy: 1.0000\n"
     ]
    },
    {
     "data": {
      "text/plain": [
       "<tensorflow.python.keras.callbacks.History at 0x1ede0c85430>"
      ]
     },
     "execution_count": 53,
     "metadata": {},
     "output_type": "execute_result"
    }
   ],
   "source": [
    "model = Chatbot(vocab_size+1,tokenizer, max_input_length, max_output_length)\n",
    "model.compile(optimizer='adam', loss='categorical_crossentropy', metrics=['accuracy'])\n",
    "model.fit([encoder_input, decoder_input], decoder_target, batch_size=10, epochs=100)"
   ]
  },
  {
   "cell_type": "code",
   "execution_count": 29,
   "metadata": {},
   "outputs": [],
   "source": [
    "model.save_weights(Path('model')/'model.hdf5')"
   ]
  },
  {
   "cell_type": "code",
   "execution_count": 54,
   "metadata": {},
   "outputs": [],
   "source": [
    "def preprocess_input(text: str):\n",
    "    text = text.lower()\n",
    "    text = unidecode(text)\n",
    "    tokenized_text = tokenizer.texts_to_sequences([text])\n",
    "    padded_text = pad_sequences(tokenized_text, maxlen=max_input_length, padding='post')\n",
    "\n",
    "    return padded_text"
   ]
  },
  {
   "cell_type": "code",
   "execution_count": 9,
   "metadata": {},
   "outputs": [],
   "source": [
    "#model = Chatbot(vocab_size + 1)\n",
    "#model.compile(optimizer='adam', loss='categorical_crossentropy', metrics=['accuracy'])\n",
    "#model.train_on_batch([encoder_input[:1], decoder_input[:1]], decoder_target[:1])\n",
    "#model.load_weights(Path('model')/'model.hdf5')"
   ]
  },
  {
   "cell_type": "code",
   "execution_count": 84,
   "metadata": {},
   "outputs": [
    {
     "name": "stdout",
     "output_type": "stream",
     "text": [
      "Hola, en que puedo ayudarte\n"
     ]
    }
   ],
   "source": [
    "question = 'buenas tardes'\n",
    "empty_target_seq = np.array([[tokenizer.word_index['start']]])\n",
    "stop_condition = False\n",
    "answer = ''\n",
    "stop_words = ['adios', 'gracias']\n",
    "\n",
    "proc_question = preprocess_input(question)\n",
    "encoder_input = model.embedding(proc_question)\n",
    "h, c = model.encoder.predict([encoder_input])\n",
    "\n",
    "while not stop_condition:\n",
    "    decoder_input = model.embedding(empty_target_seq)\n",
    "    decoder_output, h, c = model.decoder.predict([decoder_input, h, c])\n",
    "    sampled_word_index = np.argmax( decoder_output[0, -1, :] )\n",
    "    sampled_word = tokenizer.index_word.get(sampled_word_index, None)\n",
    "    if sampled_word == 'end' or len(answer.split()) > max_output_length:\n",
    "        stop_condition = True\n",
    "    else:\n",
    "        answer += f\"{sampled_word} \"\n",
    "    \n",
    "\n",
    "    empty_target_seq = np.array([np.append(empty_target_seq[0],sampled_word_index)])\n",
    "    enc_stats = [h, c]\n",
    "\n",
    "print(answer)\n"
   ]
  }
 ],
 "metadata": {
  "kernelspec": {
   "display_name": "Python 3",
   "language": "python",
   "name": "python3"
  },
  "language_info": {
   "codemirror_mode": {
    "name": "ipython",
    "version": 3
   },
   "file_extension": ".py",
   "mimetype": "text/x-python",
   "name": "python",
   "nbconvert_exporter": "python",
   "pygments_lexer": "ipython3",
   "version": "3.8.3"
  }
 },
 "nbformat": 4,
 "nbformat_minor": 4
}
